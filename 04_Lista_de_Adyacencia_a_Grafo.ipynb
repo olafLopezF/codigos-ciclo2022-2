{
  "nbformat": 4,
  "nbformat_minor": 0,
  "metadata": {
    "colab": {
      "provenance": [],
      "collapsed_sections": [],
      "include_colab_link": true
    },
    "kernelspec": {
      "name": "python3",
      "display_name": "Python 3"
    },
    "language_info": {
      "name": "python"
    }
  },
  "cells": [
    {
      "cell_type": "markdown",
      "metadata": {
        "id": "view-in-github",
        "colab_type": "text"
      },
      "source": [
        "<a href=\"https://colab.research.google.com/github/olafLopezF/codigos-ciclo2022-2/blob/main/04_Lista_de_Adyacencia_a_Grafo.ipynb\" target=\"_parent\"><img src=\"https://colab.research.google.com/assets/colab-badge.svg\" alt=\"Open In Colab\"/></a>"
      ]
    },
    {
      "cell_type": "markdown",
      "source": [
        "**Lista de Adyacencia**"
      ],
      "metadata": {
        "id": "XKRj0zGgzgg0"
      }
    },
    {
      "cell_type": "markdown",
      "source": [
        "**Solucion #1: **Creando funciones que adicionan los nodos y sus aristas en listas."
      ],
      "metadata": {
        "id": "XjwDIZwn3_4I"
      }
    },
    {
      "cell_type": "code",
      "execution_count": null,
      "metadata": {
        "id": "1rSx3JbRzcvC"
      },
      "outputs": [],
      "source": [
        "ady_lista = {}\n",
        "milista = []"
      ]
    },
    {
      "cell_type": "code",
      "source": [
        "def ad_nodo(nodo):\n",
        "  if nodo not in milista:\n",
        "    milista.append(nodo)\n",
        "  else:\n",
        "    print(\"Nodo \", nodo, \"ya existe en la lista\")"
      ],
      "metadata": {
        "id": "U_gZfBnSz2n9"
      },
      "execution_count": null,
      "outputs": []
    },
    {
      "cell_type": "code",
      "source": [
        "def ad_arista(nodo1, nodo2):\n",
        "  temp = []\n",
        "  if nodo1 in milista and nodo2 in milista:\n",
        "    if nodo1 not in ady_lista:\n",
        "      temp.append(nodo2)\n",
        "      ady_lista[nodo1] = temp\n",
        "    elif nodo1 in ady_lista:\n",
        "      temp.extend(ady_lista[nodo1])\n",
        "      temp.append(nodo2)\n",
        "      ady_lista[nodo1] = temp\n",
        "  else:\n",
        "    print(\"Nodo no existe\")"
      ],
      "metadata": {
        "id": "yM6j8dA-0a7T"
      },
      "execution_count": null,
      "outputs": []
    },
    {
      "cell_type": "code",
      "source": [
        "def grafo():\n",
        "  for nodo in ady_lista:\n",
        "    print (nodo, \"-->\", [i for i in ady_lista[nodo]])"
      ],
      "metadata": {
        "id": "sgMX_BmQ179M"
      },
      "execution_count": null,
      "outputs": []
    },
    {
      "cell_type": "code",
      "source": [
        "#Adicionamos los nodos con su ID del 0 al 4 \n",
        "ad_nodo(0)\n",
        "ad_nodo(1)\n",
        "ad_nodo(2)\n",
        "ad_nodo(3)\n",
        "ad_nodo(4)"
      ],
      "metadata": {
        "id": "GUrdFERB2hRD"
      },
      "execution_count": null,
      "outputs": []
    },
    {
      "cell_type": "code",
      "source": [
        "ad_arista(0,1)\n",
        "ad_arista(1,2)\n",
        "ad_arista(2,3)\n",
        "ad_arista(3,0)\n",
        "ad_arista(3,4)\n",
        "ad_arista(4,0)"
      ],
      "metadata": {
        "id": "2UtIBSJG22kc"
      },
      "execution_count": null,
      "outputs": []
    },
    {
      "cell_type": "code",
      "source": [
        "grafo()"
      ],
      "metadata": {
        "colab": {
          "base_uri": "https://localhost:8080/"
        },
        "id": "B_eZ_anq3Ksi",
        "outputId": "6ed3f16f-b428-49d9-fb94-6f949f07684f"
      },
      "execution_count": null,
      "outputs": [
        {
          "output_type": "stream",
          "name": "stdout",
          "text": [
            "0 --> [1, 1, 1]\n",
            "1 --> [2, 2, 2]\n",
            "2 --> [3, 3, 3]\n",
            "3 --> [0, 4, 0, 4, 0, 4]\n",
            "4 --> [0, 0, 0]\n"
          ]
        }
      ]
    },
    {
      "cell_type": "markdown",
      "source": [
        "**Solucion #2:**utilizando la libreria graphviz"
      ],
      "metadata": {
        "id": "eyGSZADT4OY5"
      }
    },
    {
      "cell_type": "code",
      "source": [
        "import graphviz as gv"
      ],
      "metadata": {
        "id": "03Dih_fr0YkD"
      },
      "execution_count": null,
      "outputs": []
    },
    {
      "cell_type": "code",
      "source": [
        "class Graph:\n",
        "  def __init__(self):\n",
        "    self.Vertices = []\n",
        "    self.label2v = dict()\n",
        "    self.G = []\n",
        "\n",
        "  def node(self, label):\n",
        "    self.label2v[label] = len(self.Vertices)\n",
        "    self.Vertices.append(label)\n",
        "    self.G.append([])\n",
        "\n",
        "  def nodes(self, labels):\n",
        "    for label in labels:\n",
        "      self.node(label)\n",
        "\n",
        "  def edge(self, u, v):\n",
        "    u = self.label2v[u]\n",
        "    v = self.label2v[v]\n",
        "\n",
        "    self.G[u].append(v)\n",
        "\n",
        "  def edges(self, u, vs):\n",
        "    for v in vs:\n",
        "      self.edge(u, v)\n",
        "\n",
        "  def Dot(self):\n",
        "    graph = gv.Digraph(\"X\")\n",
        "    n = len(self.G)\n",
        "    for u in range(n):\n",
        "      graph.node(str(u), str(self.Vertices[u]))\n",
        "\n",
        "    for u in range(n):\n",
        "      for v in self.G[u]:\n",
        "        graph.edge(str(u), str(v))\n",
        "\n",
        "    return graph"
      ],
      "metadata": {
        "id": "f-AAh0XZ4dou"
      },
      "execution_count": null,
      "outputs": []
    },
    {
      "cell_type": "code",
      "source": [
        "G = Graph()"
      ],
      "metadata": {
        "id": "xUi_8jTy4xMK"
      },
      "execution_count": null,
      "outputs": []
    },
    {
      "cell_type": "code",
      "source": [
        "G.nodes([\"1\",\"2\",\"3\",\"4\",\"5\",\"6\",\"7\"])\n",
        "G.edges(\"2\", [\"3\",\"4\"])\n",
        "G.edges(\"3\", [\"4\"])\n",
        "G.edges(\"4\", [\"5\",\"7\"])\n",
        "G.edges(\"5\", [\"1\",\"2\"])\n",
        "G.edges(\"6\", [\"3\",\"5\"])\n",
        "G.edges(\"7\", [\"5\"])\n",
        "\n"
      ],
      "metadata": {
        "id": "bJTPmsvG44py"
      },
      "execution_count": null,
      "outputs": []
    },
    {
      "cell_type": "code",
      "source": [
        "# Visualizar el grafo previamente cargado en la variable G\n",
        "\n",
        "G.Dot()"
      ],
      "metadata": {
        "colab": {
          "base_uri": "https://localhost:8080/",
          "height": 560
        },
        "id": "VNOh6dRP51Ri",
        "outputId": "73ebd2c2-4126-4f94-936f-758fd5fcb211"
      },
      "execution_count": null,
      "outputs": [
        {
          "output_type": "execute_result",
          "data": {
            "text/plain": [
              "<graphviz.dot.Digraph at 0x7fc54e5b9a90>"
            ],
            "image/svg+xml": "<?xml version=\"1.0\" encoding=\"UTF-8\" standalone=\"no\"?>\n<!DOCTYPE svg PUBLIC \"-//W3C//DTD SVG 1.1//EN\"\n \"http://www.w3.org/Graphics/SVG/1.1/DTD/svg11.dtd\">\n<!-- Generated by graphviz version 2.40.1 (20161225.0304)\n -->\n<!-- Title: X Pages: 1 -->\n<svg width=\"470pt\" height=\"404pt\"\n viewBox=\"0.00 0.00 470.39 404.00\" xmlns=\"http://www.w3.org/2000/svg\" xmlns:xlink=\"http://www.w3.org/1999/xlink\">\n<g id=\"graph0\" class=\"graph\" transform=\"scale(1 1) rotate(0) translate(4 400)\">\n<title>X</title>\n<polygon fill=\"#ffffff\" stroke=\"transparent\" points=\"-4,4 -4,-400 466.3905,-400 466.3905,4 -4,4\"/>\n<!-- 0 -->\n<g id=\"node1\" class=\"node\">\n<title>0</title>\n<ellipse fill=\"none\" stroke=\"#000000\" cx=\"111.3905\" cy=\"-234\" rx=\"27\" ry=\"18\"/>\n<text text-anchor=\"middle\" x=\"111.3905\" y=\"-230.3\" font-family=\"Times,serif\" font-size=\"14.00\" fill=\"#000000\">1</text>\n</g>\n<!-- 1 -->\n<g id=\"node2\" class=\"node\">\n<title>1</title>\n<ellipse fill=\"none\" stroke=\"#000000\" cx=\"39.3905\" cy=\"-234\" rx=\"27\" ry=\"18\"/>\n<text text-anchor=\"middle\" x=\"39.3905\" y=\"-230.3\" font-family=\"Times,serif\" font-size=\"14.00\" fill=\"#000000\">2</text>\n</g>\n<!-- 2 -->\n<g id=\"node3\" class=\"node\">\n<title>2</title>\n<ellipse fill=\"none\" stroke=\"#000000\" cx=\"39.3905\" cy=\"-162\" rx=\"27\" ry=\"18\"/>\n<text text-anchor=\"middle\" x=\"39.3905\" y=\"-158.3\" font-family=\"Times,serif\" font-size=\"14.00\" fill=\"#000000\">3</text>\n</g>\n<!-- 1&#45;&gt;2 -->\n<g id=\"edge1\" class=\"edge\">\n<title>1&#45;&gt;2</title>\n<path fill=\"none\" stroke=\"#000000\" d=\"M33.4748,-216.2022C32.6703,-208.1807 32.4476,-198.5231 32.8067,-189.5957\"/>\n<polygon fill=\"#000000\" stroke=\"#000000\" points=\"36.3002,-189.8099 33.4955,-179.593 29.3167,-189.3289 36.3002,-189.8099\"/>\n</g>\n<!-- 3 -->\n<g id=\"node4\" class=\"node\">\n<title>3</title>\n<ellipse fill=\"none\" stroke=\"#000000\" cx=\"167.3905\" cy=\"-90\" rx=\"27\" ry=\"18\"/>\n<text text-anchor=\"middle\" x=\"167.3905\" y=\"-86.3\" font-family=\"Times,serif\" font-size=\"14.00\" fill=\"#000000\">4</text>\n</g>\n<!-- 1&#45;&gt;3 -->\n<g id=\"edge2\" class=\"edge\">\n<title>1&#45;&gt;3</title>\n<path fill=\"none\" stroke=\"#000000\" d=\"M53.3324,-218.3154C75.8384,-192.9961 120.3014,-142.9752 146.5719,-113.4209\"/>\n<polygon fill=\"#000000\" stroke=\"#000000\" points=\"149.4381,-115.4647 153.4658,-105.6653 144.2062,-110.8141 149.4381,-115.4647\"/>\n</g>\n<!-- 2&#45;&gt;1 -->\n<g id=\"edge3\" class=\"edge\">\n<title>2&#45;&gt;1</title>\n<path fill=\"none\" stroke=\"#000000\" d=\"M45.2855,-179.593C46.0999,-187.5865 46.3325,-197.2363 45.9833,-206.1759\"/>\n<polygon fill=\"#000000\" stroke=\"#000000\" points=\"42.4881,-205.9891 45.3062,-216.2022 49.4722,-206.4608 42.4881,-205.9891\"/>\n</g>\n<!-- 2&#45;&gt;3 -->\n<g id=\"edge4\" class=\"edge\">\n<title>2&#45;&gt;3</title>\n<path fill=\"none\" stroke=\"#000000\" d=\"M60.2408,-150.2717C81.2538,-138.4519 113.8831,-120.0979 137.6162,-106.7481\"/>\n<polygon fill=\"#000000\" stroke=\"#000000\" points=\"139.5493,-109.6764 146.5491,-101.7233 136.1174,-103.5754 139.5493,-109.6764\"/>\n</g>\n<!-- 4 -->\n<g id=\"node5\" class=\"node\">\n<title>4</title>\n<ellipse fill=\"none\" stroke=\"#000000\" cx=\"143.3905\" cy=\"-306\" rx=\"27\" ry=\"18\"/>\n<text text-anchor=\"middle\" x=\"143.3905\" y=\"-302.3\" font-family=\"Times,serif\" font-size=\"14.00\" fill=\"#000000\">5</text>\n</g>\n<!-- 3&#45;&gt;4 -->\n<g id=\"edge5\" class=\"edge\">\n<title>3&#45;&gt;4</title>\n<path fill=\"none\" stroke=\"#000000\" d=\"M169.3279,-108.2255C168.5744,-146.1145 159.0983,-233.5783 151.1446,-278.4108\"/>\n<polygon fill=\"#000000\" stroke=\"#000000\" points=\"147.6892,-277.847 149.2663,-288.3238 154.5669,-279.1502 147.6892,-277.847\"/>\n</g>\n<!-- 6 -->\n<g id=\"node7\" class=\"node\">\n<title>6</title>\n<ellipse fill=\"none\" stroke=\"#000000\" cx=\"195.3905\" cy=\"-18\" rx=\"27\" ry=\"18\"/>\n<text text-anchor=\"middle\" x=\"195.3905\" y=\"-14.3\" font-family=\"Times,serif\" font-size=\"14.00\" fill=\"#000000\">7</text>\n</g>\n<!-- 3&#45;&gt;6 -->\n<g id=\"edge6\" class=\"edge\">\n<title>3&#45;&gt;6</title>\n<path fill=\"none\" stroke=\"#000000\" d=\"M174.1685,-72.5708C177.3777,-64.3187 181.284,-54.2738 184.8663,-45.0623\"/>\n<polygon fill=\"#000000\" stroke=\"#000000\" points=\"188.2153,-46.1069 188.5779,-35.5182 181.6913,-43.5697 188.2153,-46.1069\"/>\n</g>\n<!-- 4&#45;&gt;0 -->\n<g id=\"edge7\" class=\"edge\">\n<title>4&#45;&gt;0</title>\n<path fill=\"none\" stroke=\"#000000\" d=\"M135.6442,-288.5708C131.9101,-280.1691 127.3501,-269.9091 123.196,-260.5623\"/>\n<polygon fill=\"#000000\" stroke=\"#000000\" points=\"126.3253,-258.9853 119.0655,-251.2687 119.9286,-261.8283 126.3253,-258.9853\"/>\n</g>\n<!-- 4&#45;&gt;1 -->\n<g id=\"edge8\" class=\"edge\">\n<title>4&#45;&gt;1</title>\n<path fill=\"none\" stroke=\"#000000\" d=\"M124.3153,-292.7941C108.1892,-281.6298 84.8864,-265.4971 66.7684,-252.9539\"/>\n<polygon fill=\"#000000\" stroke=\"#000000\" points=\"68.559,-249.9367 58.3448,-247.1222 64.5745,-255.692 68.559,-249.9367\"/>\n</g>\n<!-- 4&#45;&gt;3 -->\n<g id=\"edge9\" class=\"edge\">\n<title>4&#45;&gt;3</title>\n<path fill=\"none\" stroke=\"#000000\" d=\"M141.4495,-287.9555C142.1752,-250.2205 151.642,-162.7518 159.6011,-117.7882\"/>\n<polygon fill=\"#000000\" stroke=\"#000000\" points=\"163.063,-118.3173 161.481,-107.8413 156.1848,-117.0173 163.063,-118.3173\"/>\n</g>\n<!-- 5 -->\n<g id=\"node6\" class=\"node\">\n<title>5</title>\n<ellipse fill=\"none\" stroke=\"#000000\" cx=\"79.3905\" cy=\"-378\" rx=\"27\" ry=\"18\"/>\n<text text-anchor=\"middle\" x=\"79.3905\" y=\"-374.3\" font-family=\"Times,serif\" font-size=\"14.00\" fill=\"#000000\">6</text>\n</g>\n<!-- 5&#45;&gt;2 -->\n<g id=\"edge10\" class=\"edge\">\n<title>5&#45;&gt;2</title>\n<path fill=\"none\" stroke=\"#000000\" d=\"M65.9184,-362.2372C47.5612,-339.6115 15.5796,-295.8081 3.3905,-252 -.8984,-236.5855 -1.246,-231.3135 3.3905,-216 6.6566,-205.2127 12.8669,-194.6108 19.2218,-185.6963\"/>\n<polygon fill=\"#000000\" stroke=\"#000000\" points=\"22.019,-187.8001 25.2676,-177.7156 16.4392,-183.5732 22.019,-187.8001\"/>\n</g>\n<!-- 5&#45;&gt;4 -->\n<g id=\"edge11\" class=\"edge\">\n<title>5&#45;&gt;4</title>\n<path fill=\"none\" stroke=\"#000000\" d=\"M93.2775,-362.3771C101.9158,-352.659 113.1798,-339.987 122.8402,-329.1191\"/>\n<polygon fill=\"#000000\" stroke=\"#000000\" points=\"125.5028,-331.3918 129.5306,-321.5924 120.2709,-326.7413 125.5028,-331.3918\"/>\n</g>\n<!-- 6&#45;&gt;4 -->\n<g id=\"edge12\" class=\"edge\">\n<title>6&#45;&gt;4</title>\n<path fill=\"none\" stroke=\"#000000\" d=\"M198.722,-35.9264C200.4992,-46.4018 202.4992,-59.9018 203.3905,-72 209.339,-152.7433 204.1765,-176.3281 175.3905,-252 171.5946,-261.9785 166.0176,-272.2281 160.5785,-281.0798\"/>\n<polygon fill=\"#000000\" stroke=\"#000000\" points=\"157.4857,-279.4195 155.0409,-289.7284 163.3808,-283.1941 157.4857,-279.4195\"/>\n</g>\n<!-- 7 -->\n<g id=\"node8\" class=\"node\">\n<title>7</title>\n<ellipse fill=\"none\" stroke=\"#000000\" cx=\"387.3905\" cy=\"-234\" rx=\"27\" ry=\"18\"/>\n<text text-anchor=\"middle\" x=\"387.3905\" y=\"-230.3\" font-family=\"Times,serif\" font-size=\"14.00\" fill=\"#000000\">1</text>\n</g>\n<!-- 8 -->\n<g id=\"node9\" class=\"node\">\n<title>8</title>\n<ellipse fill=\"none\" stroke=\"#000000\" cx=\"315.3905\" cy=\"-234\" rx=\"27\" ry=\"18\"/>\n<text text-anchor=\"middle\" x=\"315.3905\" y=\"-230.3\" font-family=\"Times,serif\" font-size=\"14.00\" fill=\"#000000\">2</text>\n</g>\n<!-- 9 -->\n<g id=\"node10\" class=\"node\">\n<title>9</title>\n<ellipse fill=\"none\" stroke=\"#000000\" cx=\"315.3905\" cy=\"-162\" rx=\"27\" ry=\"18\"/>\n<text text-anchor=\"middle\" x=\"315.3905\" y=\"-158.3\" font-family=\"Times,serif\" font-size=\"14.00\" fill=\"#000000\">3</text>\n</g>\n<!-- 8&#45;&gt;9 -->\n<g id=\"edge13\" class=\"edge\">\n<title>8&#45;&gt;9</title>\n<path fill=\"none\" stroke=\"#000000\" d=\"M315.3905,-215.8314C315.3905,-208.131 315.3905,-198.9743 315.3905,-190.4166\"/>\n<polygon fill=\"#000000\" stroke=\"#000000\" points=\"318.8906,-190.4132 315.3905,-180.4133 311.8906,-190.4133 318.8906,-190.4132\"/>\n</g>\n<!-- 10 -->\n<g id=\"node11\" class=\"node\">\n<title>10</title>\n<ellipse fill=\"none\" stroke=\"#000000\" cx=\"397.3905\" cy=\"-90\" rx=\"27\" ry=\"18\"/>\n<text text-anchor=\"middle\" x=\"397.3905\" y=\"-86.3\" font-family=\"Times,serif\" font-size=\"14.00\" fill=\"#000000\">4</text>\n</g>\n<!-- 8&#45;&gt;10 -->\n<g id=\"edge14\" class=\"edge\">\n<title>8&#45;&gt;10</title>\n<path fill=\"none\" stroke=\"#000000\" d=\"M327.2526,-217.2961C334.5323,-206.7865 343.8685,-192.8306 351.3905,-180 363.596,-159.1805 375.9635,-134.7552 384.7963,-116.6073\"/>\n<polygon fill=\"#000000\" stroke=\"#000000\" points=\"388.1254,-117.7614 389.3163,-107.2337 381.8202,-114.721 388.1254,-117.7614\"/>\n</g>\n<!-- 9&#45;&gt;10 -->\n<g id=\"edge15\" class=\"edge\">\n<title>9&#45;&gt;10</title>\n<path fill=\"none\" stroke=\"#000000\" d=\"M331.9844,-147.4297C343.7659,-137.0851 359.7745,-123.0286 373.005,-111.4116\"/>\n<polygon fill=\"#000000\" stroke=\"#000000\" points=\"375.6161,-113.7767 380.8213,-104.5486 370.9975,-108.5166 375.6161,-113.7767\"/>\n</g>\n<!-- 11 -->\n<g id=\"node12\" class=\"node\">\n<title>11</title>\n<ellipse fill=\"none\" stroke=\"#000000\" cx=\"387.3905\" cy=\"-306\" rx=\"27\" ry=\"18\"/>\n<text text-anchor=\"middle\" x=\"387.3905\" y=\"-302.3\" font-family=\"Times,serif\" font-size=\"14.00\" fill=\"#000000\">5</text>\n</g>\n<!-- 10&#45;&gt;11 -->\n<g id=\"edge16\" class=\"edge\">\n<title>10&#45;&gt;11</title>\n<path fill=\"none\" stroke=\"#000000\" d=\"M405.2041,-107.3693C417.6127,-137.4037 438.9089,-200.7461 423.3905,-252 420.1244,-262.7873 413.9141,-273.3892 407.5592,-282.3037\"/>\n<polygon fill=\"#000000\" stroke=\"#000000\" points=\"404.762,-280.1999 401.5134,-290.2844 410.3418,-284.4268 404.762,-280.1999\"/>\n</g>\n<!-- 13 -->\n<g id=\"node14\" class=\"node\">\n<title>13</title>\n<ellipse fill=\"none\" stroke=\"#000000\" cx=\"435.3905\" cy=\"-18\" rx=\"27\" ry=\"18\"/>\n<text text-anchor=\"middle\" x=\"435.3905\" y=\"-14.3\" font-family=\"Times,serif\" font-size=\"14.00\" fill=\"#000000\">7</text>\n</g>\n<!-- 10&#45;&gt;13 -->\n<g id=\"edge17\" class=\"edge\">\n<title>10&#45;&gt;13</title>\n<path fill=\"none\" stroke=\"#000000\" d=\"M406.396,-72.937C410.8733,-64.4537 416.3857,-54.0092 421.3975,-44.513\"/>\n<polygon fill=\"#000000\" stroke=\"#000000\" points=\"424.6134,-45.9182 426.1857,-35.4407 418.4227,-42.6509 424.6134,-45.9182\"/>\n</g>\n<!-- 11&#45;&gt;7 -->\n<g id=\"edge18\" class=\"edge\">\n<title>11&#45;&gt;7</title>\n<path fill=\"none\" stroke=\"#000000\" d=\"M387.3905,-287.8314C387.3905,-280.131 387.3905,-270.9743 387.3905,-262.4166\"/>\n<polygon fill=\"#000000\" stroke=\"#000000\" points=\"390.8906,-262.4132 387.3905,-252.4133 383.8906,-262.4133 390.8906,-262.4132\"/>\n</g>\n<!-- 11&#45;&gt;8 -->\n<g id=\"edge19\" class=\"edge\">\n<title>11&#45;&gt;8</title>\n<path fill=\"none\" stroke=\"#000000\" d=\"M372.1212,-290.7307C362.1935,-280.803 349.0752,-267.6847 337.9542,-256.5637\"/>\n<polygon fill=\"#000000\" stroke=\"#000000\" points=\"340.1838,-253.8436 330.6378,-249.2473 335.234,-258.7933 340.1838,-253.8436\"/>\n</g>\n<!-- 12 -->\n<g id=\"node13\" class=\"node\">\n<title>12</title>\n<ellipse fill=\"none\" stroke=\"#000000\" cx=\"323.3905\" cy=\"-378\" rx=\"27\" ry=\"18\"/>\n<text text-anchor=\"middle\" x=\"323.3905\" y=\"-374.3\" font-family=\"Times,serif\" font-size=\"14.00\" fill=\"#000000\">6</text>\n</g>\n<!-- 12&#45;&gt;9 -->\n<g id=\"edge20\" class=\"edge\">\n<title>12&#45;&gt;9</title>\n<path fill=\"none\" stroke=\"#000000\" d=\"M312.6465,-361.3521C295.0181,-331.8945 263.4286,-268.7186 279.3905,-216 282.6566,-205.2127 288.8669,-194.6108 295.2218,-185.6963\"/>\n<polygon fill=\"#000000\" stroke=\"#000000\" points=\"298.019,-187.8001 301.2676,-177.7156 292.4392,-183.5732 298.019,-187.8001\"/>\n</g>\n<!-- 12&#45;&gt;11 -->\n<g id=\"edge21\" class=\"edge\">\n<title>12&#45;&gt;11</title>\n<path fill=\"none\" stroke=\"#000000\" d=\"M337.2775,-362.3771C345.9158,-352.659 357.1798,-339.987 366.8402,-329.1191\"/>\n<polygon fill=\"#000000\" stroke=\"#000000\" points=\"369.5028,-331.3918 373.5306,-321.5924 364.2709,-326.7413 369.5028,-331.3918\"/>\n</g>\n<!-- 13&#45;&gt;11 -->\n<g id=\"edge22\" class=\"edge\">\n<title>13&#45;&gt;11</title>\n<path fill=\"none\" stroke=\"#000000\" d=\"M440.2433,-35.8738C450.2439,-76.205 469.7785,-176.6338 439.3905,-252 434.0908,-265.1439 423.8914,-276.8762 413.9195,-286.0197\"/>\n<polygon fill=\"#000000\" stroke=\"#000000\" points=\"411.366,-283.5995 406.0688,-292.7751 415.9318,-288.9055 411.366,-283.5995\"/>\n</g>\n</g>\n</svg>\n"
          },
          "metadata": {},
          "execution_count": 27
        }
      ]
    }
  ]
}