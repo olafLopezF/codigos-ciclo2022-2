{
  "nbformat": 4,
  "nbformat_minor": 0,
  "metadata": {
    "colab": {
      "provenance": [],
      "include_colab_link": true
    },
    "kernelspec": {
      "name": "python3",
      "display_name": "Python 3"
    },
    "language_info": {
      "name": "python"
    }
  },
  "cells": [
    {
      "cell_type": "markdown",
      "metadata": {
        "id": "view-in-github",
        "colab_type": "text"
      },
      "source": [
        "<a href=\"https://colab.research.google.com/github/olafLopezF/codigos-ciclo2022-2/blob/main/04_Matriz_de_Adyacencia_a_Grafo.ipynb\" target=\"_parent\"><img src=\"https://colab.research.google.com/assets/colab-badge.svg\" alt=\"Open In Colab\"/></a>"
      ]
    },
    {
      "cell_type": "markdown",
      "source": [
        "**Matriz de Adyacencia**"
      ],
      "metadata": {
        "id": "dg1QTUdbk3xx"
      }
    },
    {
      "cell_type": "code",
      "source": [
        "import numpy as np"
      ],
      "metadata": {
        "id": "NXVpoIpUlvgo"
      },
      "execution_count": null,
      "outputs": []
    },
    {
      "cell_type": "code",
      "execution_count": null,
      "metadata": {
        "id": "fQStXCdZkzop"
      },
      "outputs": [],
      "source": [
        "G = [[1,0,1,0],\n",
        "     [1,0,1,1],\n",
        "     [0,1,1,0],\n",
        "     [1,0,0,0]]"
      ]
    },
    {
      "cell_type": "code",
      "source": [
        "print(G)"
      ],
      "metadata": {
        "colab": {
          "base_uri": "https://localhost:8080/"
        },
        "id": "1rSKOoj9llFn",
        "outputId": "a37a028c-3ff7-4dfb-d132-c4506e651010"
      },
      "execution_count": null,
      "outputs": [
        {
          "output_type": "stream",
          "name": "stdout",
          "text": [
            "[[1, 0, 1, 0], [1, 0, 1, 1], [0, 1, 1, 0], [1, 0, 0, 0]]\n"
          ]
        }
      ]
    },
    {
      "cell_type": "code",
      "source": [
        "A = np.array (G)\n",
        "print(A)"
      ],
      "metadata": {
        "colab": {
          "base_uri": "https://localhost:8080/"
        },
        "id": "TMyT2tVJlmW-",
        "outputId": "2b243f40-79ba-4309-cfbc-9380e1abd908"
      },
      "execution_count": null,
      "outputs": [
        {
          "output_type": "stream",
          "name": "stdout",
          "text": [
            "[[1 0 1 0]\n",
            " [1 0 1 1]\n",
            " [0 1 1 0]\n",
            " [1 0 0 0]]\n"
          ]
        }
      ]
    },
    {
      "cell_type": "code",
      "source": [
        "len(A)"
      ],
      "metadata": {
        "colab": {
          "base_uri": "https://localhost:8080/"
        },
        "id": "9PFXs_m3l5QY",
        "outputId": "5fa72b1f-4266-45f3-87c7-d965a0a87a82"
      },
      "execution_count": null,
      "outputs": [
        {
          "output_type": "execute_result",
          "data": {
            "text/plain": [
              "4"
            ]
          },
          "metadata": {},
          "execution_count": 5
        }
      ]
    },
    {
      "cell_type": "code",
      "source": [
        "# Recorrer el arreglo A\n",
        "\n",
        "n = len(A)\n",
        "\n",
        "for i in range(n):\n",
        "  for j in range(n):\n",
        "    if A[i,j] == 1:\n",
        "      print (f\"Hay una arista desde el nodo {i+1} al nodo {j+1}\")"
      ],
      "metadata": {
        "colab": {
          "base_uri": "https://localhost:8080/"
        },
        "id": "LBo34gz6l92H",
        "outputId": "acf181a4-1a93-4753-e48a-d98129480337"
      },
      "execution_count": null,
      "outputs": [
        {
          "output_type": "stream",
          "name": "stdout",
          "text": [
            "Hay una arista desde el nodo 1 al nodo 1\n",
            "Hay una arista desde el nodo 1 al nodo 3\n",
            "Hay una arista desde el nodo 2 al nodo 1\n",
            "Hay una arista desde el nodo 2 al nodo 3\n",
            "Hay una arista desde el nodo 2 al nodo 4\n",
            "Hay una arista desde el nodo 3 al nodo 2\n",
            "Hay una arista desde el nodo 3 al nodo 3\n",
            "Hay una arista desde el nodo 4 al nodo 1\n"
          ]
        }
      ]
    },
    {
      "cell_type": "code",
      "source": [
        "import graphviz as gv"
      ],
      "metadata": {
        "id": "prsApeXxndGV"
      },
      "execution_count": null,
      "outputs": []
    },
    {
      "cell_type": "code",
      "source": [
        "gv.Source(\"\"\"\n",
        "  digraph grafo_dirigido {\n",
        "    a -> b;\n",
        "    a -> c;\n",
        "    c -> d\n",
        "    b -> d;\n",
        "  }\n",
        "\"\"\")"
      ],
      "metadata": {
        "colab": {
          "base_uri": "https://localhost:8080/",
          "height": 272
        },
        "id": "gNdTxLUEnjfG",
        "outputId": "9ff46cc0-fcea-42f8-9091-b433d7c6168c"
      },
      "execution_count": null,
      "outputs": [
        {
          "output_type": "execute_result",
          "data": {
            "text/plain": [
              "<graphviz.files.Source at 0x7f9e0c085590>"
            ],
            "image/svg+xml": "<?xml version=\"1.0\" encoding=\"UTF-8\" standalone=\"no\"?>\n<!DOCTYPE svg PUBLIC \"-//W3C//DTD SVG 1.1//EN\"\n \"http://www.w3.org/Graphics/SVG/1.1/DTD/svg11.dtd\">\n<!-- Generated by graphviz version 2.40.1 (20161225.0304)\n -->\n<!-- Title: grafo_dirigido Pages: 1 -->\n<svg width=\"134pt\" height=\"188pt\"\n viewBox=\"0.00 0.00 134.00 188.00\" xmlns=\"http://www.w3.org/2000/svg\" xmlns:xlink=\"http://www.w3.org/1999/xlink\">\n<g id=\"graph0\" class=\"graph\" transform=\"scale(1 1) rotate(0) translate(4 184)\">\n<title>grafo_dirigido</title>\n<polygon fill=\"#ffffff\" stroke=\"transparent\" points=\"-4,4 -4,-184 130,-184 130,4 -4,4\"/>\n<!-- a -->\n<g id=\"node1\" class=\"node\">\n<title>a</title>\n<ellipse fill=\"none\" stroke=\"#000000\" cx=\"63\" cy=\"-162\" rx=\"27\" ry=\"18\"/>\n<text text-anchor=\"middle\" x=\"63\" y=\"-158.3\" font-family=\"Times,serif\" font-size=\"14.00\" fill=\"#000000\">a</text>\n</g>\n<!-- b -->\n<g id=\"node2\" class=\"node\">\n<title>b</title>\n<ellipse fill=\"none\" stroke=\"#000000\" cx=\"27\" cy=\"-90\" rx=\"27\" ry=\"18\"/>\n<text text-anchor=\"middle\" x=\"27\" y=\"-86.3\" font-family=\"Times,serif\" font-size=\"14.00\" fill=\"#000000\">b</text>\n</g>\n<!-- a&#45;&gt;b -->\n<g id=\"edge1\" class=\"edge\">\n<title>a&#45;&gt;b</title>\n<path fill=\"none\" stroke=\"#000000\" d=\"M54.2854,-144.5708C50.0403,-136.0807 44.8464,-125.6929 40.1337,-116.2674\"/>\n<polygon fill=\"#000000\" stroke=\"#000000\" points=\"43.237,-114.6477 35.6343,-107.2687 36.976,-117.7782 43.237,-114.6477\"/>\n</g>\n<!-- c -->\n<g id=\"node3\" class=\"node\">\n<title>c</title>\n<ellipse fill=\"none\" stroke=\"#000000\" cx=\"99\" cy=\"-90\" rx=\"27\" ry=\"18\"/>\n<text text-anchor=\"middle\" x=\"99\" y=\"-86.3\" font-family=\"Times,serif\" font-size=\"14.00\" fill=\"#000000\">c</text>\n</g>\n<!-- a&#45;&gt;c -->\n<g id=\"edge2\" class=\"edge\">\n<title>a&#45;&gt;c</title>\n<path fill=\"none\" stroke=\"#000000\" d=\"M71.7146,-144.5708C75.9597,-136.0807 81.1536,-125.6929 85.8663,-116.2674\"/>\n<polygon fill=\"#000000\" stroke=\"#000000\" points=\"89.024,-117.7782 90.3657,-107.2687 82.763,-114.6477 89.024,-117.7782\"/>\n</g>\n<!-- d -->\n<g id=\"node4\" class=\"node\">\n<title>d</title>\n<ellipse fill=\"none\" stroke=\"#000000\" cx=\"63\" cy=\"-18\" rx=\"27\" ry=\"18\"/>\n<text text-anchor=\"middle\" x=\"63\" y=\"-14.3\" font-family=\"Times,serif\" font-size=\"14.00\" fill=\"#000000\">d</text>\n</g>\n<!-- b&#45;&gt;d -->\n<g id=\"edge4\" class=\"edge\">\n<title>b&#45;&gt;d</title>\n<path fill=\"none\" stroke=\"#000000\" d=\"M35.7146,-72.5708C39.9597,-64.0807 45.1536,-53.6929 49.8663,-44.2674\"/>\n<polygon fill=\"#000000\" stroke=\"#000000\" points=\"53.024,-45.7782 54.3657,-35.2687 46.763,-42.6477 53.024,-45.7782\"/>\n</g>\n<!-- c&#45;&gt;d -->\n<g id=\"edge3\" class=\"edge\">\n<title>c&#45;&gt;d</title>\n<path fill=\"none\" stroke=\"#000000\" d=\"M90.2854,-72.5708C86.0403,-64.0807 80.8464,-53.6929 76.1337,-44.2674\"/>\n<polygon fill=\"#000000\" stroke=\"#000000\" points=\"79.237,-42.6477 71.6343,-35.2687 72.976,-45.7782 79.237,-42.6477\"/>\n</g>\n</g>\n</svg>\n"
          },
          "metadata": {},
          "execution_count": 9
        }
      ]
    },
    {
      "cell_type": "code",
      "source": [
        "# Llevar la matriz de adyacencia A a un grafo dirigido\n",
        "\n",
        "def dibujaGrafo(A):\n",
        "  grafo = gv.Digraph(\"grafo_dirigido2\")\n",
        "  n = len(A)\n",
        "  \n",
        "  for i in range(n):\n",
        "    for j in range(n):\n",
        "      if A[i,j] == 1:\n",
        "        #print (f\"Hay una arista desde el nodo {i+1} al nodo {j+1}\")\n",
        "        grafo.edge(str(i+1),str(j+1))\n",
        "\n",
        "  return grafo\n"
      ],
      "metadata": {
        "id": "AOmtvkt_oN3V"
      },
      "execution_count": null,
      "outputs": []
    },
    {
      "cell_type": "code",
      "source": [
        "migrafo = dibujaGrafo(A)\n",
        "print(A)\n",
        "print(migrafo)"
      ],
      "metadata": {
        "colab": {
          "base_uri": "https://localhost:8080/"
        },
        "id": "7t5EbH55pgWm",
        "outputId": "9e62c062-04fa-442c-ad9c-ee8367df260f"
      },
      "execution_count": null,
      "outputs": [
        {
          "output_type": "stream",
          "name": "stdout",
          "text": [
            "[[1 0 1 0]\n",
            " [1 0 1 1]\n",
            " [0 1 1 0]\n",
            " [1 0 0 0]]\n",
            "digraph grafo_dirigido2 {\n",
            "\t1 -> 1\n",
            "\t1 -> 3\n",
            "\t2 -> 1\n",
            "\t2 -> 3\n",
            "\t2 -> 4\n",
            "\t3 -> 2\n",
            "\t3 -> 3\n",
            "\t4 -> 1\n",
            "}\n"
          ]
        }
      ]
    },
    {
      "cell_type": "code",
      "source": [
        "migrafo"
      ],
      "metadata": {
        "colab": {
          "base_uri": "https://localhost:8080/",
          "height": 368
        },
        "id": "qqfjg_iBp2he",
        "outputId": "eb9c0ffb-8f81-4903-9ac5-798a9c18f853"
      },
      "execution_count": null,
      "outputs": [
        {
          "output_type": "execute_result",
          "data": {
            "text/plain": [
              "<graphviz.dot.Digraph at 0x7f9dfde6a810>"
            ],
            "image/svg+xml": "<?xml version=\"1.0\" encoding=\"UTF-8\" standalone=\"no\"?>\n<!DOCTYPE svg PUBLIC \"-//W3C//DTD SVG 1.1//EN\"\n \"http://www.w3.org/Graphics/SVG/1.1/DTD/svg11.dtd\">\n<!-- Generated by graphviz version 2.40.1 (20161225.0304)\n -->\n<!-- Title: grafo_dirigido2 Pages: 1 -->\n<svg width=\"153pt\" height=\"260pt\"\n viewBox=\"0.00 0.00 153.00 260.00\" xmlns=\"http://www.w3.org/2000/svg\" xmlns:xlink=\"http://www.w3.org/1999/xlink\">\n<g id=\"graph0\" class=\"graph\" transform=\"scale(1 1) rotate(0) translate(4 256)\">\n<title>grafo_dirigido2</title>\n<polygon fill=\"#ffffff\" stroke=\"transparent\" points=\"-4,4 -4,-256 149,-256 149,4 -4,4\"/>\n<!-- 1 -->\n<g id=\"node1\" class=\"node\">\n<title>1</title>\n<ellipse fill=\"none\" stroke=\"#000000\" cx=\"100\" cy=\"-234\" rx=\"27\" ry=\"18\"/>\n<text text-anchor=\"middle\" x=\"100\" y=\"-230.3\" font-family=\"Times,serif\" font-size=\"14.00\" fill=\"#000000\">1</text>\n</g>\n<!-- 1&#45;&gt;1 -->\n<g id=\"edge1\" class=\"edge\">\n<title>1&#45;&gt;1</title>\n<path fill=\"none\" stroke=\"#000000\" d=\"M119.895,-246.4321C132.688,-249.6753 145,-245.5313 145,-234 145,-225.6218 138.5006,-221.1433 130.0395,-220.5644\"/>\n<polygon fill=\"#000000\" stroke=\"#000000\" points=\"129.5019,-217.1004 119.895,-221.5679 130.191,-224.0665 129.5019,-217.1004\"/>\n</g>\n<!-- 3 -->\n<g id=\"node2\" class=\"node\">\n<title>3</title>\n<ellipse fill=\"none\" stroke=\"#000000\" cx=\"27\" cy=\"-162\" rx=\"27\" ry=\"18\"/>\n<text text-anchor=\"middle\" x=\"27\" y=\"-158.3\" font-family=\"Times,serif\" font-size=\"14.00\" fill=\"#000000\">3</text>\n</g>\n<!-- 1&#45;&gt;3 -->\n<g id=\"edge2\" class=\"edge\">\n<title>1&#45;&gt;3</title>\n<path fill=\"none\" stroke=\"#000000\" d=\"M84.8744,-219.0816C74.6655,-209.0125 61.0122,-195.5463 49.5307,-184.2221\"/>\n<polygon fill=\"#000000\" stroke=\"#000000\" points=\"51.9349,-181.6773 42.3574,-177.147 47.0194,-186.6611 51.9349,-181.6773\"/>\n</g>\n<!-- 3&#45;&gt;3 -->\n<g id=\"edge7\" class=\"edge\">\n<title>3&#45;&gt;3</title>\n<path fill=\"none\" stroke=\"#000000\" d=\"M46.895,-174.4321C59.688,-177.6753 72,-173.5313 72,-162 72,-153.6218 65.5006,-149.1433 57.0395,-148.5644\"/>\n<polygon fill=\"#000000\" stroke=\"#000000\" points=\"56.5019,-145.1004 46.895,-149.5679 57.191,-152.0665 56.5019,-145.1004\"/>\n</g>\n<!-- 2 -->\n<g id=\"node3\" class=\"node\">\n<title>2</title>\n<ellipse fill=\"none\" stroke=\"#000000\" cx=\"55\" cy=\"-90\" rx=\"27\" ry=\"18\"/>\n<text text-anchor=\"middle\" x=\"55\" y=\"-86.3\" font-family=\"Times,serif\" font-size=\"14.00\" fill=\"#000000\">2</text>\n</g>\n<!-- 3&#45;&gt;2 -->\n<g id=\"edge6\" class=\"edge\">\n<title>3&#45;&gt;2</title>\n<path fill=\"none\" stroke=\"#000000\" d=\"M28.1132,-143.8314C30.6002,-135.2978 34.433,-124.9758 38.5238,-115.6624\"/>\n<polygon fill=\"#000000\" stroke=\"#000000\" points=\"41.7711,-116.9806 42.8348,-106.4393 35.4297,-114.0165 41.7711,-116.9806\"/>\n</g>\n<!-- 2&#45;&gt;1 -->\n<g id=\"edge3\" class=\"edge\">\n<title>2&#45;&gt;1</title>\n<path fill=\"none\" stroke=\"#000000\" d=\"M64.5248,-107.0621C70.0009,-117.4711 76.6374,-131.1962 81,-144 87.9318,-164.3441 92.8265,-188.1722 95.9102,-206.1983\"/>\n<polygon fill=\"#000000\" stroke=\"#000000\" points=\"92.4561,-206.7638 97.5182,-216.0711 99.365,-205.6385 92.4561,-206.7638\"/>\n</g>\n<!-- 2&#45;&gt;3 -->\n<g id=\"edge4\" class=\"edge\">\n<title>2&#45;&gt;3</title>\n<path fill=\"none\" stroke=\"#000000\" d=\"M53.9236,-108.0423C51.4333,-116.6152 47.5737,-127.0145 43.4545,-136.3867\"/>\n<polygon fill=\"#000000\" stroke=\"#000000\" points=\"40.1825,-135.1212 39.1145,-145.6621 46.5228,-138.088 40.1825,-135.1212\"/>\n</g>\n<!-- 4 -->\n<g id=\"node4\" class=\"node\">\n<title>4</title>\n<ellipse fill=\"none\" stroke=\"#000000\" cx=\"82\" cy=\"-18\" rx=\"27\" ry=\"18\"/>\n<text text-anchor=\"middle\" x=\"82\" y=\"-14.3\" font-family=\"Times,serif\" font-size=\"14.00\" fill=\"#000000\">4</text>\n</g>\n<!-- 2&#45;&gt;4 -->\n<g id=\"edge5\" class=\"edge\">\n<title>2&#45;&gt;4</title>\n<path fill=\"none\" stroke=\"#000000\" d=\"M61.6742,-72.2022C64.7476,-64.0064 68.4616,-54.1024 71.8695,-45.0145\"/>\n<polygon fill=\"#000000\" stroke=\"#000000\" points=\"75.1685,-46.1853 75.4026,-35.593 68.6142,-43.7274 75.1685,-46.1853\"/>\n</g>\n<!-- 4&#45;&gt;1 -->\n<g id=\"edge8\" class=\"edge\">\n<title>4&#45;&gt;1</title>\n<path fill=\"none\" stroke=\"#000000\" d=\"M85.2457,-35.9625C87.0777,-46.45 89.3277,-59.95 91,-72 95.426,-103.8913 97.0409,-111.8627 99,-144 100.2519,-164.5369 100.4805,-187.7572 100.4073,-205.4674\"/>\n<polygon fill=\"#000000\" stroke=\"#000000\" points=\"96.9057,-205.6829 100.3292,-215.7093 103.9055,-205.7363 96.9057,-205.6829\"/>\n</g>\n</g>\n</svg>\n"
          },
          "metadata": {},
          "execution_count": 13
        }
      ]
    },
    {
      "cell_type": "code",
      "source": [
        "#Crear un archivo que contiene los valores de la matriz de adyacencia\n",
        "\n",
        "%%file file_matriz.txt\n",
        "1 0 1 0\n",
        "1 0 1 1\n",
        "0 1 1 0\n",
        "1 0 0 0"
      ],
      "metadata": {
        "colab": {
          "base_uri": "https://localhost:8080/"
        },
        "id": "OfY6i5rHptVG",
        "outputId": "1a1d86d9-ccff-4bfa-b262-813fcf04a2b0"
      },
      "execution_count": null,
      "outputs": [
        {
          "output_type": "stream",
          "name": "stdout",
          "text": [
            "Writing file_matriz.txt\n"
          ]
        }
      ]
    },
    {
      "cell_type": "code",
      "source": [
        "#Cargar el archivo que contiene la matriz de adyacencia\n",
        "\n",
        "A2 = np.loadtxt(\"file_matriz.txt\", dtype=int)\n",
        "print(A2)"
      ],
      "metadata": {
        "colab": {
          "base_uri": "https://localhost:8080/"
        },
        "id": "m-4PrMz3q_Ie",
        "outputId": "aa9f5d44-0d92-4981-ef3a-9bd1ff0da2d2"
      },
      "execution_count": null,
      "outputs": [
        {
          "output_type": "stream",
          "name": "stdout",
          "text": [
            "[[1 0 1 0]\n",
            " [1 0 1 1]\n",
            " [0 1 1 0]\n",
            " [1 0 0 0]]\n"
          ]
        }
      ]
    },
    {
      "cell_type": "code",
      "source": [
        "#Dibujamos el de la matriz A2\n",
        "dibujaGrafo(A2)"
      ],
      "metadata": {
        "colab": {
          "base_uri": "https://localhost:8080/",
          "height": 368
        },
        "id": "mO90qmwIrs1N",
        "outputId": "a8033fe3-d541-48ff-f465-82f07d7ad251"
      },
      "execution_count": null,
      "outputs": [
        {
          "output_type": "execute_result",
          "data": {
            "text/plain": [
              "<graphviz.dot.Digraph at 0x7f9dfdf21dd0>"
            ],
            "image/svg+xml": "<?xml version=\"1.0\" encoding=\"UTF-8\" standalone=\"no\"?>\n<!DOCTYPE svg PUBLIC \"-//W3C//DTD SVG 1.1//EN\"\n \"http://www.w3.org/Graphics/SVG/1.1/DTD/svg11.dtd\">\n<!-- Generated by graphviz version 2.40.1 (20161225.0304)\n -->\n<!-- Title: grafo_dirigido2 Pages: 1 -->\n<svg width=\"153pt\" height=\"260pt\"\n viewBox=\"0.00 0.00 153.00 260.00\" xmlns=\"http://www.w3.org/2000/svg\" xmlns:xlink=\"http://www.w3.org/1999/xlink\">\n<g id=\"graph0\" class=\"graph\" transform=\"scale(1 1) rotate(0) translate(4 256)\">\n<title>grafo_dirigido2</title>\n<polygon fill=\"#ffffff\" stroke=\"transparent\" points=\"-4,4 -4,-256 149,-256 149,4 -4,4\"/>\n<!-- 1 -->\n<g id=\"node1\" class=\"node\">\n<title>1</title>\n<ellipse fill=\"none\" stroke=\"#000000\" cx=\"100\" cy=\"-234\" rx=\"27\" ry=\"18\"/>\n<text text-anchor=\"middle\" x=\"100\" y=\"-230.3\" font-family=\"Times,serif\" font-size=\"14.00\" fill=\"#000000\">1</text>\n</g>\n<!-- 1&#45;&gt;1 -->\n<g id=\"edge1\" class=\"edge\">\n<title>1&#45;&gt;1</title>\n<path fill=\"none\" stroke=\"#000000\" d=\"M119.895,-246.4321C132.688,-249.6753 145,-245.5313 145,-234 145,-225.6218 138.5006,-221.1433 130.0395,-220.5644\"/>\n<polygon fill=\"#000000\" stroke=\"#000000\" points=\"129.5019,-217.1004 119.895,-221.5679 130.191,-224.0665 129.5019,-217.1004\"/>\n</g>\n<!-- 3 -->\n<g id=\"node2\" class=\"node\">\n<title>3</title>\n<ellipse fill=\"none\" stroke=\"#000000\" cx=\"27\" cy=\"-162\" rx=\"27\" ry=\"18\"/>\n<text text-anchor=\"middle\" x=\"27\" y=\"-158.3\" font-family=\"Times,serif\" font-size=\"14.00\" fill=\"#000000\">3</text>\n</g>\n<!-- 1&#45;&gt;3 -->\n<g id=\"edge2\" class=\"edge\">\n<title>1&#45;&gt;3</title>\n<path fill=\"none\" stroke=\"#000000\" d=\"M84.8744,-219.0816C74.6655,-209.0125 61.0122,-195.5463 49.5307,-184.2221\"/>\n<polygon fill=\"#000000\" stroke=\"#000000\" points=\"51.9349,-181.6773 42.3574,-177.147 47.0194,-186.6611 51.9349,-181.6773\"/>\n</g>\n<!-- 3&#45;&gt;3 -->\n<g id=\"edge7\" class=\"edge\">\n<title>3&#45;&gt;3</title>\n<path fill=\"none\" stroke=\"#000000\" d=\"M46.895,-174.4321C59.688,-177.6753 72,-173.5313 72,-162 72,-153.6218 65.5006,-149.1433 57.0395,-148.5644\"/>\n<polygon fill=\"#000000\" stroke=\"#000000\" points=\"56.5019,-145.1004 46.895,-149.5679 57.191,-152.0665 56.5019,-145.1004\"/>\n</g>\n<!-- 2 -->\n<g id=\"node3\" class=\"node\">\n<title>2</title>\n<ellipse fill=\"none\" stroke=\"#000000\" cx=\"55\" cy=\"-90\" rx=\"27\" ry=\"18\"/>\n<text text-anchor=\"middle\" x=\"55\" y=\"-86.3\" font-family=\"Times,serif\" font-size=\"14.00\" fill=\"#000000\">2</text>\n</g>\n<!-- 3&#45;&gt;2 -->\n<g id=\"edge6\" class=\"edge\">\n<title>3&#45;&gt;2</title>\n<path fill=\"none\" stroke=\"#000000\" d=\"M28.1132,-143.8314C30.6002,-135.2978 34.433,-124.9758 38.5238,-115.6624\"/>\n<polygon fill=\"#000000\" stroke=\"#000000\" points=\"41.7711,-116.9806 42.8348,-106.4393 35.4297,-114.0165 41.7711,-116.9806\"/>\n</g>\n<!-- 2&#45;&gt;1 -->\n<g id=\"edge3\" class=\"edge\">\n<title>2&#45;&gt;1</title>\n<path fill=\"none\" stroke=\"#000000\" d=\"M64.5248,-107.0621C70.0009,-117.4711 76.6374,-131.1962 81,-144 87.9318,-164.3441 92.8265,-188.1722 95.9102,-206.1983\"/>\n<polygon fill=\"#000000\" stroke=\"#000000\" points=\"92.4561,-206.7638 97.5182,-216.0711 99.365,-205.6385 92.4561,-206.7638\"/>\n</g>\n<!-- 2&#45;&gt;3 -->\n<g id=\"edge4\" class=\"edge\">\n<title>2&#45;&gt;3</title>\n<path fill=\"none\" stroke=\"#000000\" d=\"M53.9236,-108.0423C51.4333,-116.6152 47.5737,-127.0145 43.4545,-136.3867\"/>\n<polygon fill=\"#000000\" stroke=\"#000000\" points=\"40.1825,-135.1212 39.1145,-145.6621 46.5228,-138.088 40.1825,-135.1212\"/>\n</g>\n<!-- 4 -->\n<g id=\"node4\" class=\"node\">\n<title>4</title>\n<ellipse fill=\"none\" stroke=\"#000000\" cx=\"82\" cy=\"-18\" rx=\"27\" ry=\"18\"/>\n<text text-anchor=\"middle\" x=\"82\" y=\"-14.3\" font-family=\"Times,serif\" font-size=\"14.00\" fill=\"#000000\">4</text>\n</g>\n<!-- 2&#45;&gt;4 -->\n<g id=\"edge5\" class=\"edge\">\n<title>2&#45;&gt;4</title>\n<path fill=\"none\" stroke=\"#000000\" d=\"M61.6742,-72.2022C64.7476,-64.0064 68.4616,-54.1024 71.8695,-45.0145\"/>\n<polygon fill=\"#000000\" stroke=\"#000000\" points=\"75.1685,-46.1853 75.4026,-35.593 68.6142,-43.7274 75.1685,-46.1853\"/>\n</g>\n<!-- 4&#45;&gt;1 -->\n<g id=\"edge8\" class=\"edge\">\n<title>4&#45;&gt;1</title>\n<path fill=\"none\" stroke=\"#000000\" d=\"M85.2457,-35.9625C87.0777,-46.45 89.3277,-59.95 91,-72 95.426,-103.8913 97.0409,-111.8627 99,-144 100.2519,-164.5369 100.4805,-187.7572 100.4073,-205.4674\"/>\n<polygon fill=\"#000000\" stroke=\"#000000\" points=\"96.9057,-205.6829 100.3292,-215.7093 103.9055,-205.7363 96.9057,-205.6829\"/>\n</g>\n</g>\n</svg>\n"
          },
          "metadata": {},
          "execution_count": 16
        }
      ]
    },
    {
      "cell_type": "code",
      "source": [
        "# Grafo no dirigido\n",
        "\n",
        "gv.Source(\"\"\"\n",
        "  graph grafo_NO_dirigido {\n",
        "    a -- b;\n",
        "    a -- c;\n",
        "    c -- d\n",
        "    b -- d;\n",
        "  }\n",
        "\"\"\")"
      ],
      "metadata": {
        "colab": {
          "base_uri": "https://localhost:8080/",
          "height": 272
        },
        "id": "JBDJzHlQsGJN",
        "outputId": "6572cb34-76c0-43e1-ec93-72ec1f7f12ca"
      },
      "execution_count": null,
      "outputs": [
        {
          "output_type": "execute_result",
          "data": {
            "text/plain": [
              "<graphviz.files.Source at 0x7f9e05eeafd0>"
            ],
            "image/svg+xml": "<?xml version=\"1.0\" encoding=\"UTF-8\" standalone=\"no\"?>\n<!DOCTYPE svg PUBLIC \"-//W3C//DTD SVG 1.1//EN\"\n \"http://www.w3.org/Graphics/SVG/1.1/DTD/svg11.dtd\">\n<!-- Generated by graphviz version 2.40.1 (20161225.0304)\n -->\n<!-- Title: grafo_NO_dirigido Pages: 1 -->\n<svg width=\"134pt\" height=\"188pt\"\n viewBox=\"0.00 0.00 134.00 188.00\" xmlns=\"http://www.w3.org/2000/svg\" xmlns:xlink=\"http://www.w3.org/1999/xlink\">\n<g id=\"graph0\" class=\"graph\" transform=\"scale(1 1) rotate(0) translate(4 184)\">\n<title>grafo_NO_dirigido</title>\n<polygon fill=\"#ffffff\" stroke=\"transparent\" points=\"-4,4 -4,-184 130,-184 130,4 -4,4\"/>\n<!-- a -->\n<g id=\"node1\" class=\"node\">\n<title>a</title>\n<ellipse fill=\"none\" stroke=\"#000000\" cx=\"63\" cy=\"-162\" rx=\"27\" ry=\"18\"/>\n<text text-anchor=\"middle\" x=\"63\" y=\"-158.3\" font-family=\"Times,serif\" font-size=\"14.00\" fill=\"#000000\">a</text>\n</g>\n<!-- b -->\n<g id=\"node2\" class=\"node\">\n<title>b</title>\n<ellipse fill=\"none\" stroke=\"#000000\" cx=\"27\" cy=\"-90\" rx=\"27\" ry=\"18\"/>\n<text text-anchor=\"middle\" x=\"27\" y=\"-86.3\" font-family=\"Times,serif\" font-size=\"14.00\" fill=\"#000000\">b</text>\n</g>\n<!-- a&#45;&#45;b -->\n<g id=\"edge1\" class=\"edge\">\n<title>a&#45;&#45;b</title>\n<path fill=\"none\" stroke=\"#000000\" d=\"M54.2854,-144.5708C48.6253,-133.2506 41.2784,-118.5568 35.6343,-107.2687\"/>\n</g>\n<!-- c -->\n<g id=\"node3\" class=\"node\">\n<title>c</title>\n<ellipse fill=\"none\" stroke=\"#000000\" cx=\"99\" cy=\"-90\" rx=\"27\" ry=\"18\"/>\n<text text-anchor=\"middle\" x=\"99\" y=\"-86.3\" font-family=\"Times,serif\" font-size=\"14.00\" fill=\"#000000\">c</text>\n</g>\n<!-- a&#45;&#45;c -->\n<g id=\"edge2\" class=\"edge\">\n<title>a&#45;&#45;c</title>\n<path fill=\"none\" stroke=\"#000000\" d=\"M71.7146,-144.5708C77.3747,-133.2506 84.7216,-118.5568 90.3657,-107.2687\"/>\n</g>\n<!-- d -->\n<g id=\"node4\" class=\"node\">\n<title>d</title>\n<ellipse fill=\"none\" stroke=\"#000000\" cx=\"63\" cy=\"-18\" rx=\"27\" ry=\"18\"/>\n<text text-anchor=\"middle\" x=\"63\" y=\"-14.3\" font-family=\"Times,serif\" font-size=\"14.00\" fill=\"#000000\">d</text>\n</g>\n<!-- b&#45;&#45;d -->\n<g id=\"edge4\" class=\"edge\">\n<title>b&#45;&#45;d</title>\n<path fill=\"none\" stroke=\"#000000\" d=\"M35.7146,-72.5708C41.3747,-61.2506 48.7216,-46.5568 54.3657,-35.2687\"/>\n</g>\n<!-- c&#45;&#45;d -->\n<g id=\"edge3\" class=\"edge\">\n<title>c&#45;&#45;d</title>\n<path fill=\"none\" stroke=\"#000000\" d=\"M90.2854,-72.5708C84.6253,-61.2506 77.2784,-46.5568 71.6343,-35.2687\"/>\n</g>\n</g>\n</svg>\n"
          },
          "metadata": {},
          "execution_count": 17
        }
      ]
    },
    {
      "cell_type": "code",
      "source": [
        "# Llevar la matriz de adyacencia A a un grafo NO dirigido\n",
        "\n",
        "def dibujaGrafoND(A):\n",
        "  grafo = gv.Graph(\"grafo_NO_dirigido\")\n",
        "  n = len(A)\n",
        "  \n",
        "  for i in range(n):\n",
        "    for j in range(n):\n",
        "      if A[i,j] == 1:\n",
        "        #print (f\"Hay una arista desde el nodo {i+1} al nodo {j+1}\")\n",
        "        grafo.edge(str(i+1),str(j+1))\n",
        "\n",
        "  return grafo"
      ],
      "metadata": {
        "id": "Qsm5uVFDsW3O"
      },
      "execution_count": null,
      "outputs": []
    },
    {
      "cell_type": "code",
      "source": [
        "migrafoND = dibujaGrafoND(A2)\n",
        "migrafoND"
      ],
      "metadata": {
        "colab": {
          "base_uri": "https://localhost:8080/",
          "height": 368
        },
        "id": "_v9X2slKstye",
        "outputId": "9fda574a-f5a9-4333-ae53-b8fdd6099bc2"
      },
      "execution_count": null,
      "outputs": [
        {
          "output_type": "execute_result",
          "data": {
            "text/plain": [
              "<graphviz.dot.Graph at 0x7f9dfddda210>"
            ],
            "image/svg+xml": "<?xml version=\"1.0\" encoding=\"UTF-8\" standalone=\"no\"?>\n<!DOCTYPE svg PUBLIC \"-//W3C//DTD SVG 1.1//EN\"\n \"http://www.w3.org/Graphics/SVG/1.1/DTD/svg11.dtd\">\n<!-- Generated by graphviz version 2.40.1 (20161225.0304)\n -->\n<!-- Title: grafo_NO_dirigido Pages: 1 -->\n<svg width=\"153pt\" height=\"260pt\"\n viewBox=\"0.00 0.00 153.00 260.00\" xmlns=\"http://www.w3.org/2000/svg\" xmlns:xlink=\"http://www.w3.org/1999/xlink\">\n<g id=\"graph0\" class=\"graph\" transform=\"scale(1 1) rotate(0) translate(4 256)\">\n<title>grafo_NO_dirigido</title>\n<polygon fill=\"#ffffff\" stroke=\"transparent\" points=\"-4,4 -4,-256 149,-256 149,4 -4,4\"/>\n<!-- 1 -->\n<g id=\"node1\" class=\"node\">\n<title>1</title>\n<ellipse fill=\"none\" stroke=\"#000000\" cx=\"100\" cy=\"-234\" rx=\"27\" ry=\"18\"/>\n<text text-anchor=\"middle\" x=\"100\" y=\"-230.3\" font-family=\"Times,serif\" font-size=\"14.00\" fill=\"#000000\">1</text>\n</g>\n<!-- 1&#45;&#45;1 -->\n<g id=\"edge1\" class=\"edge\">\n<title>1&#45;&#45;1</title>\n<path fill=\"none\" stroke=\"#000000\" d=\"M119.895,-246.4321C132.688,-249.6753 145,-245.5313 145,-234 145,-222.4688 132.688,-218.3247 119.895,-221.5679\"/>\n</g>\n<!-- 3 -->\n<g id=\"node2\" class=\"node\">\n<title>3</title>\n<ellipse fill=\"none\" stroke=\"#000000\" cx=\"27\" cy=\"-162\" rx=\"27\" ry=\"18\"/>\n<text text-anchor=\"middle\" x=\"27\" y=\"-158.3\" font-family=\"Times,serif\" font-size=\"14.00\" fill=\"#000000\">3</text>\n</g>\n<!-- 1&#45;&#45;3 -->\n<g id=\"edge2\" class=\"edge\">\n<title>1&#45;&#45;3</title>\n<path fill=\"none\" stroke=\"#000000\" d=\"M84.8744,-219.0816C72.4293,-206.807 54.8655,-189.4838 42.3574,-177.147\"/>\n</g>\n<!-- 3&#45;&#45;3 -->\n<g id=\"edge7\" class=\"edge\">\n<title>3&#45;&#45;3</title>\n<path fill=\"none\" stroke=\"#000000\" d=\"M46.895,-174.4321C59.688,-177.6753 72,-173.5313 72,-162 72,-150.4688 59.688,-146.3247 46.895,-149.5679\"/>\n</g>\n<!-- 2 -->\n<g id=\"node3\" class=\"node\">\n<title>2</title>\n<ellipse fill=\"none\" stroke=\"#000000\" cx=\"55\" cy=\"-90\" rx=\"27\" ry=\"18\"/>\n<text text-anchor=\"middle\" x=\"55\" y=\"-86.3\" font-family=\"Times,serif\" font-size=\"14.00\" fill=\"#000000\">2</text>\n</g>\n<!-- 3&#45;&#45;2 -->\n<g id=\"edge6\" class=\"edge\">\n<title>3&#45;&#45;2</title>\n<path fill=\"none\" stroke=\"#000000\" d=\"M28.1132,-143.8314C31.4641,-132.3335 37.2581,-117.589 42.8348,-106.4393\"/>\n</g>\n<!-- 2&#45;&#45;1 -->\n<g id=\"edge3\" class=\"edge\">\n<title>2&#45;&#45;1</title>\n<path fill=\"none\" stroke=\"#000000\" d=\"M64.5248,-107.0621C70.0009,-117.4711 76.6374,-131.1962 81,-144 89.2922,-168.3368 94.6693,-197.6596 97.5182,-216.0711\"/>\n</g>\n<!-- 2&#45;&#45;3 -->\n<g id=\"edge4\" class=\"edge\">\n<title>2&#45;&#45;3</title>\n<path fill=\"none\" stroke=\"#000000\" d=\"M53.9236,-108.0423C50.5683,-119.5932 44.7271,-134.4597 39.1145,-145.6621\"/>\n</g>\n<!-- 4 -->\n<g id=\"node4\" class=\"node\">\n<title>4</title>\n<ellipse fill=\"none\" stroke=\"#000000\" cx=\"82\" cy=\"-18\" rx=\"27\" ry=\"18\"/>\n<text text-anchor=\"middle\" x=\"82\" y=\"-14.3\" font-family=\"Times,serif\" font-size=\"14.00\" fill=\"#000000\">4</text>\n</g>\n<!-- 2&#45;&#45;4 -->\n<g id=\"edge5\" class=\"edge\">\n<title>2&#45;&#45;4</title>\n<path fill=\"none\" stroke=\"#000000\" d=\"M61.6742,-72.2022C65.8593,-61.0419 71.2321,-46.7143 75.4026,-35.593\"/>\n</g>\n<!-- 4&#45;&#45;1 -->\n<g id=\"edge8\" class=\"edge\">\n<title>4&#45;&#45;1</title>\n<path fill=\"none\" stroke=\"#000000\" d=\"M85.2457,-35.9625C87.0777,-46.45 89.3277,-59.95 91,-72 95.426,-103.8913 97.0409,-111.8627 99,-144 100.5117,-168.7992 100.5314,-197.5114 100.3292,-215.7093\"/>\n</g>\n</g>\n</svg>\n"
          },
          "metadata": {},
          "execution_count": 21
        }
      ]
    },
    {
      "cell_type": "code",
      "source": [],
      "metadata": {
        "id": "fgSM6qNZtAP-"
      },
      "execution_count": null,
      "outputs": []
    }
  ]
}